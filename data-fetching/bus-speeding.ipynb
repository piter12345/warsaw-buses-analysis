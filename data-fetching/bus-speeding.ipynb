{
 "cells": [
  {
   "cell_type": "code",
   "execution_count": 7,
   "metadata": {},
   "outputs": [],
   "source": [
    "import requests\n",
    "import json\n",
    "from time import sleep\n",
    "from datetime import datetime\n",
    "\n",
    "from secrets import API_KEY\n"
   ]
  },
  {
   "cell_type": "code",
   "execution_count": 3,
   "metadata": {},
   "outputs": [],
   "source": [
    "def get_available_buses():\n",
    "    url = f\"https://api.um.warszawa.pl/api/action/busestrams_get/?resource_id= f2e5503e927d-4ad3-9500-4ab9e55deb59&apikey={API_KEY}&type=1\"\n",
    "\n",
    "    response = requests.post(url)\n",
    "\n",
    "    return response"
   ]
  },
  {
   "cell_type": "code",
   "execution_count": 13,
   "metadata": {},
   "outputs": [
    {
     "name": "stdout",
     "output_type": "stream",
     "text": [
      "downloaded data (2024-02-18 20:29:32.045602)\n",
      "downloaded data (2024-02-18 20:30:32.382306)\n",
      "downloaded data (2024-02-18 20:31:32.723745)\n",
      "downloaded data (2024-02-18 20:32:34.035290)\n",
      "downloaded data (2024-02-18 20:33:34.403544)\n",
      "downloaded data (2024-02-18 20:34:34.872610)\n",
      "downloaded data (2024-02-18 20:35:35.278719)\n",
      "downloaded data (2024-02-18 20:36:35.657034)\n",
      "downloaded data (2024-02-18 20:37:36.042940)\n",
      "downloaded data (2024-02-18 20:38:36.265954)\n",
      "downloaded data (2024-02-18 20:39:36.639814)\n",
      "downloaded data (2024-02-18 20:40:37.086845)\n",
      "downloaded data (2024-02-18 20:41:37.489658)\n",
      "downloaded data (2024-02-18 20:42:37.817891)\n",
      "downloaded data (2024-02-18 20:43:38.171283)\n",
      "downloaded data (2024-02-18 20:44:38.607438)\n",
      "downloaded data (2024-02-18 20:45:38.828406)\n",
      "downloaded data (2024-02-18 20:46:39.096891)\n",
      "downloaded data (2024-02-18 20:47:39.458113)\n",
      "downloaded data (2024-02-18 20:48:40.048877)\n",
      "downloaded data (2024-02-18 20:49:40.472517)\n",
      "downloaded data (2024-02-18 20:50:40.682971)\n",
      "downloaded data (2024-02-18 20:51:41.047491)\n",
      "downloaded data (2024-02-18 20:52:41.424183)\n",
      "downloaded data (2024-02-18 20:53:41.702066)\n",
      "downloaded data (2024-02-18 20:54:41.924909)\n",
      "downloaded data (2024-02-18 20:55:42.154510)\n",
      "downloaded data (2024-02-18 20:56:42.506532)\n",
      "downloaded data (2024-02-18 20:57:42.763346)\n",
      "downloaded data (2024-02-18 20:58:43.360531)\n",
      "downloaded data (2024-02-18 20:59:43.871336)\n",
      "downloaded data (2024-02-18 21:00:44.126329)\n",
      "downloaded data (2024-02-18 21:01:44.459233)\n",
      "downloaded data (2024-02-18 21:02:44.811140)\n",
      "downloaded data (2024-02-18 21:03:45.189714)\n",
      "downloaded data (2024-02-18 21:04:45.776072)\n",
      "downloaded data (2024-02-18 21:05:46.148932)\n",
      "downloaded data (2024-02-18 21:06:46.658312)\n",
      "downloaded data (2024-02-18 21:07:47.193641)\n",
      "downloaded data (2024-02-18 21:08:47.599435)\n",
      "downloaded data (2024-02-18 21:09:48.019443)\n",
      "downloaded data (2024-02-18 21:10:48.413967)\n",
      "downloaded data (2024-02-18 21:11:48.854574)\n",
      "downloaded data (2024-02-18 21:12:49.205687)\n",
      "downloaded data (2024-02-18 21:13:49.549351)\n",
      "downloaded data (2024-02-18 21:14:49.963135)\n",
      "downloaded data (2024-02-18 21:15:50.728488)\n",
      "downloaded data (2024-02-18 21:16:51.011118)\n",
      "downloaded data (2024-02-18 21:17:51.507127)\n",
      "downloaded data (2024-02-18 21:18:51.756828)\n",
      "downloaded data (2024-02-18 21:19:52.221674)\n",
      "downloaded data (2024-02-18 21:20:52.622969)\n",
      "downloaded data (2024-02-18 21:21:53.136891)\n",
      "downloaded data (2024-02-18 21:22:53.550006)\n",
      "downloaded data (2024-02-18 21:23:54.072793)\n",
      "downloaded data (2024-02-18 21:24:54.510742)\n",
      "downloaded data (2024-02-18 21:25:54.915646)\n",
      "downloaded data (2024-02-18 21:26:55.302448)\n",
      "downloaded data (2024-02-18 21:27:55.840280)\n",
      "downloaded data (2024-02-18 21:28:56.693641)\n",
      "83585\n"
     ]
    }
   ],
   "source": [
    "acc_results = []\n",
    "\n",
    "download_time = datetime.now()\n",
    "\n",
    "try:\n",
    "    for i in range(60):\n",
    "        try:\n",
    "            results = get_available_buses().json()['result']\n",
    "            print(f\"downloaded data ({datetime.now()})\")\n",
    "        except:\n",
    "            print(\"request failed, retrying...\")\n",
    "            sleep(1)\n",
    "        acc_results.extend(results)\n",
    "        sleep(60)\n",
    "except:\n",
    "    print(\"downloading interrupted\")\n",
    "    pass\n",
    "\n",
    "print(len(acc_results))"
   ]
  },
  {
   "cell_type": "code",
   "execution_count": 14,
   "metadata": {},
   "outputs": [],
   "source": [
    "data = json.dumps(acc_results, indent=2)\n",
    "\n",
    "filepath = f\"../data/bus-locations-{download_time}.json\"\n",
    "with open(filepath, \"w\") as json_file:\n",
    "    json.dump(acc_results, json_file, indent=2)"
   ]
  }
 ],
 "metadata": {
  "kernelspec": {
   "display_name": "Python 3",
   "language": "python",
   "name": "python3"
  },
  "language_info": {
   "codemirror_mode": {
    "name": "ipython",
    "version": 3
   },
   "file_extension": ".py",
   "mimetype": "text/x-python",
   "name": "python",
   "nbconvert_exporter": "python",
   "pygments_lexer": "ipython3",
   "version": "3.8.10"
  },
  "orig_nbformat": 4,
  "vscode": {
   "interpreter": {
    "hash": "916dbcbb3f70747c44a77c7bcd40155683ae19c65e1c03b4aa3499c5328201f1"
   }
  }
 },
 "nbformat": 4,
 "nbformat_minor": 2
}
