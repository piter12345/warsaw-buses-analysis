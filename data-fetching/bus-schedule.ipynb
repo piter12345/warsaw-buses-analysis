{
 "cells": [
  {
   "cell_type": "code",
   "execution_count": 1,
   "metadata": {},
   "outputs": [],
   "source": [
    "import requests\n",
    "import json\n",
    "from time import sleep\n",
    "from datetime import datetime\n",
    "\n",
    "from secrets import API_KEY"
   ]
  },
  {
   "cell_type": "code",
   "execution_count": 12,
   "metadata": {},
   "outputs": [],
   "source": [
    "def get_bus_lines_stops():\n",
    "    url = f\"https://api.um.warszawa.pl/api/action/dbtimetable_get?id=88cd555f-6f31-43ca-9de4-66c479ad5942&busstopId=7009&busstopNr=01&apikey={API_KEY}\"\n",
    "\n",
    "    response = requests.post(url)\n",
    "\n",
    "    return response\n",
    "\n",
    "def get_bus_stops():\n",
    "    url = f\"https://api.um.warszawa.pl/api/action/dbtimetable_get?id=b27f4c17-5c50-4a5b-89dd236b282bc499&name=Marsza%C5%82kowska&apikey={API_KEY}\"\n",
    "\n",
    "    response = requests.post(url)\n",
    "\n",
    "    return response\n",
    "\n",
    "def get_schedule():\n",
    "    url = f\"https://api.um.warszawa.pl/api/action/dbtimetable_get?id=e923fa0e-d96c-43f9-ae6e60518c9f3238&line=wartość&apikey={API_KEY}\""
   ]
  },
  {
   "cell_type": "code",
   "execution_count": 15,
   "metadata": {},
   "outputs": [
    {
     "data": {
      "text/plain": [
       "{'result': [{'values': [{'value': '138', 'key': 'linia'}]},\n",
       "  {'values': [{'value': '143', 'key': 'linia'}]},\n",
       "  {'values': [{'value': '151', 'key': 'linia'}]},\n",
       "  {'values': [{'value': '182', 'key': 'linia'}]},\n",
       "  {'values': [{'value': '187', 'key': 'linia'}]},\n",
       "  {'values': [{'value': '188', 'key': 'linia'}]},\n",
       "  {'values': [{'value': '411', 'key': 'linia'}]},\n",
       "  {'values': [{'value': '502', 'key': 'linia'}]},\n",
       "  {'values': [{'value': '514', 'key': 'linia'}]},\n",
       "  {'values': [{'value': '520', 'key': 'linia'}]},\n",
       "  {'values': [{'value': '523', 'key': 'linia'}]},\n",
       "  {'values': [{'value': '525', 'key': 'linia'}]},\n",
       "  {'values': [{'value': 'N25', 'key': 'linia'}]}]}"
      ]
     },
     "execution_count": 15,
     "metadata": {},
     "output_type": "execute_result"
    }
   ],
   "source": [
    "response = get_bus_stops()\n",
    "response.json()"
   ]
  }
 ],
 "metadata": {
  "kernelspec": {
   "display_name": "Python 3",
   "language": "python",
   "name": "python3"
  },
  "language_info": {
   "codemirror_mode": {
    "name": "ipython",
    "version": 3
   },
   "file_extension": ".py",
   "mimetype": "text/x-python",
   "name": "python",
   "nbconvert_exporter": "python",
   "pygments_lexer": "ipython3",
   "version": "3.8.10"
  },
  "orig_nbformat": 4,
  "vscode": {
   "interpreter": {
    "hash": "916dbcbb3f70747c44a77c7bcd40155683ae19c65e1c03b4aa3499c5328201f1"
   }
  }
 },
 "nbformat": 4,
 "nbformat_minor": 2
}
